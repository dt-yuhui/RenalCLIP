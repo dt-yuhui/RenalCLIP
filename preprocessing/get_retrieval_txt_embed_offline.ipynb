{
 "cells": [
  {
   "cell_type": "markdown",
   "id": "f32ad019-1fda-4121-a7f5-ea95806d82a2",
   "metadata": {},
   "source": [
    "# Dataset Setup"
   ]
  },
  {
   "cell_type": "code",
   "execution_count": null,
   "id": "3880aa51-3b60-451e-9651-ce25e3d4c627",
   "metadata": {},
   "outputs": [],
   "source": [
    "import os\n",
    "import json\n",
    "import pandas as pd\n",
    "import random\n",
    "import numpy as np\n",
    "from tqdm import tqdm\n",
    "import argparse\n",
    "import sys\n",
    "\n",
    "current_dir = os.path.dirname(os.path.abspath('__file__'))\n",
    "project_root = os.path.dirname(current_dir)\n",
    "sys.path.insert(0, project_root)\n",
    "\n",
    "from utils.parser import get_report_generation_args\n",
    "sys.argv = ['run.py']\n",
    "args = get_report_generation_args()\n",
    "args.pre_processed_type = \"one_kidney_tc_v3\"\n",
    "\n",
    "from datasets.data_loader_RenalCLIP_retrieval import ImageCaptionDataset\n",
    "from torch.utils.data import DataLoader\n",
    "\n",
    "os.environ[\"TOKENIZERS_PARALLELISM\"] = \"false\""
   ]
  },
  {
   "cell_type": "markdown",
   "id": "3cb1f0bd-018d-4bf2-a055-37cbdd1a1a15",
   "metadata": {
    "tags": []
   },
   "source": [
    "# offline save embeddings for llm2vec"
   ]
  },
  {
   "cell_type": "code",
   "execution_count": null,
   "id": "458dde3b-704c-4cbb-892f-b5b2dda879df",
   "metadata": {},
   "outputs": [],
   "source": [
    "import torch\n",
    "from llm2vec import LLM2Vec\n",
    "from tqdm import tqdm"
   ]
  },
  {
   "cell_type": "code",
   "execution_count": null,
   "id": "700dfcf9-62e2-4284-bfc1-1d4fc4f6ce94",
   "metadata": {},
   "outputs": [],
   "source": [
    "TEXT_PRETRAINED_DIR = fr\"/cpfs01/projects-HDD/cfff-bb5d866c17c2_HDD/taoyuhui/RenalCLIP/pretrained_models/language_family\"\n",
    "llm2vec_base_name = \"hub/Meta-Llama-3-8B-Instruct-radiology-ext-long\"\n",
    "llm2vec_peft_name = \"hub/Meta-Llama-3-8B-Instruct-radiology-simcse/checkpoint-1000\"\n",
    "\n",
    "l2v = LLM2Vec.from_pretrained(\n",
    "    os.path.join(TEXT_PRETRAINED_DIR, llm2vec_base_name),\n",
    "    peft_model_name_or_path=os.path.join(TEXT_PRETRAINED_DIR, llm2vec_peft_name),\n",
    "    device_map=torch.device('cuda' if torch.cuda.is_available() else 'cpu'),\n",
    "    torch_dtype=torch.bfloat16,\n",
    "    local_files_only=True,\n",
    "    pooling_mode=\"mean\",\n",
    "    max_length=224,\n",
    ")"
   ]
  },
  {
   "cell_type": "code",
   "execution_count": null,
   "id": "b6a9143a-21a9-4037-bf0f-30bf010585a6",
   "metadata": {},
   "outputs": [],
   "source": [
    "TEXT_EMBEDDINGS_DIR = fr\"/cpfs01/projects-SSD/cfff-bb5d866c17c2_SSD/public/RenalCLIP/retrieval_text_embeddings/llm2vec-rad\"\n",
    "os.makedirs(TEXT_EMBEDDINGS_DIR, exist_ok=True)\n",
    "\n",
    "hospitals = [\"internal\", \"瑞金\", \"山东\", \"张掖\", \"厦门\"]\n",
    "for hospital in hospitals:\n",
    "    dataset = ImageCaptionDataset(args, hospital=hospital)\n",
    "    dataloader = DataLoader(dataset, batch_size=16, shuffle=False, num_workers=8, drop_last=False)\n",
    "    for _, captions, patient_ids in tqdm(dataloader):\n",
    "\n",
    "        text_embeddings = l2v.encode(captions, show_progress_bar=False).float()\n",
    "        text_embeddings = text_embeddings / text_embeddings.norm(dim=-1, keepdim=True)\n",
    "        text_embeddings = text_embeddings.numpy()\n",
    "        for text_embedding, patient_id in zip(text_embeddings, patient_ids):\n",
    "            text_embedding = np.expand_dims(text_embedding, axis=0)\n",
    "\n",
    "            save_dir = os.path.join(TEXT_EMBEDDINGS_DIR, patient_id)\n",
    "            os.makedirs(save_dir, exist_ok=True)\n",
    "            embedding_file = os.path.join(save_dir, f\"text_embedding.npy\")\n",
    "            np.save(embedding_file, text_embedding)"
   ]
  }
 ],
 "metadata": {
  "kernelspec": {
   "display_name": "Python 3 (ipykernel)",
   "language": "python",
   "name": "python3"
  },
  "language_info": {
   "codemirror_mode": {
    "name": "ipython",
    "version": 3
   },
   "file_extension": ".py",
   "mimetype": "text/x-python",
   "name": "python",
   "nbconvert_exporter": "python",
   "pygments_lexer": "ipython3",
   "version": "3.10.14"
  }
 },
 "nbformat": 4,
 "nbformat_minor": 5
}
